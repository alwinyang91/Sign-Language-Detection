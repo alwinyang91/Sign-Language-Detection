{
 "cells": [
  {
   "cell_type": "code",
   "execution_count": 1,
   "metadata": {},
   "outputs": [],
   "source": [
    "import os\n",
    "import pandas as pd\n",
    "import seaborn as sns\n",
    "import numpy as np\n",
    "import matplotlib.pyplot as plt\n",
    "%matplotlib inline"
   ]
  },
  {
   "cell_type": "code",
   "execution_count": 2,
   "metadata": {},
   "outputs": [
    {
     "data": {
      "text/html": [
       "<div>\n",
       "<style scoped>\n",
       "    .dataframe tbody tr th:only-of-type {\n",
       "        vertical-align: middle;\n",
       "    }\n",
       "\n",
       "    .dataframe tbody tr th {\n",
       "        vertical-align: top;\n",
       "    }\n",
       "\n",
       "    .dataframe thead th {\n",
       "        text-align: right;\n",
       "    }\n",
       "</style>\n",
       "<table border=\"1\" class=\"dataframe\">\n",
       "  <thead>\n",
       "    <tr style=\"text-align: right;\">\n",
       "      <th></th>\n",
       "      <th>Model name</th>\n",
       "      <th>Speed (ms)</th>\n",
       "      <th>COCO mAP</th>\n",
       "      <th>Outputs</th>\n",
       "      <th>COCO mAP.1</th>\n",
       "      <th>Outputs.1</th>\n",
       "    </tr>\n",
       "  </thead>\n",
       "  <tbody>\n",
       "    <tr>\n",
       "      <th>0</th>\n",
       "      <td>CenterNet HourGlass104 512x512</td>\n",
       "      <td>70</td>\n",
       "      <td>41.9</td>\n",
       "      <td>Boxes</td>\n",
       "      <td>NaN</td>\n",
       "      <td>NaN</td>\n",
       "    </tr>\n",
       "    <tr>\n",
       "      <th>1</th>\n",
       "      <td>CenterNet HourGlass104 Keypoints 512x512</td>\n",
       "      <td>76</td>\n",
       "      <td>40.0</td>\n",
       "      <td>Boxes</td>\n",
       "      <td>61.4</td>\n",
       "      <td>Keypoints</td>\n",
       "    </tr>\n",
       "    <tr>\n",
       "      <th>2</th>\n",
       "      <td>CenterNet HourGlass104 1024x1024</td>\n",
       "      <td>197</td>\n",
       "      <td>44.5</td>\n",
       "      <td>Boxes</td>\n",
       "      <td>NaN</td>\n",
       "      <td>NaN</td>\n",
       "    </tr>\n",
       "    <tr>\n",
       "      <th>3</th>\n",
       "      <td>CenterNet HourGlass104 Keypoints 1024x1024</td>\n",
       "      <td>211</td>\n",
       "      <td>42.8</td>\n",
       "      <td>Boxes</td>\n",
       "      <td>64.5</td>\n",
       "      <td>Keypoints</td>\n",
       "    </tr>\n",
       "    <tr>\n",
       "      <th>4</th>\n",
       "      <td>CenterNet Resnet50 V1 FPN 512x512</td>\n",
       "      <td>27</td>\n",
       "      <td>31.2</td>\n",
       "      <td>Boxes</td>\n",
       "      <td>NaN</td>\n",
       "      <td>NaN</td>\n",
       "    </tr>\n",
       "    <tr>\n",
       "      <th>5</th>\n",
       "      <td>CenterNet Resnet50 V1 FPN Keypoints 512x512</td>\n",
       "      <td>30</td>\n",
       "      <td>29.3</td>\n",
       "      <td>Boxes</td>\n",
       "      <td>50.7</td>\n",
       "      <td>Keypoints</td>\n",
       "    </tr>\n",
       "    <tr>\n",
       "      <th>6</th>\n",
       "      <td>CenterNet Resnet101 V1 FPN 512x512</td>\n",
       "      <td>34</td>\n",
       "      <td>34.2</td>\n",
       "      <td>Boxes</td>\n",
       "      <td>NaN</td>\n",
       "      <td>NaN</td>\n",
       "    </tr>\n",
       "    <tr>\n",
       "      <th>7</th>\n",
       "      <td>CenterNet Resnet50 V2 512x512</td>\n",
       "      <td>27</td>\n",
       "      <td>29.5</td>\n",
       "      <td>Boxes</td>\n",
       "      <td>NaN</td>\n",
       "      <td>NaN</td>\n",
       "    </tr>\n",
       "    <tr>\n",
       "      <th>8</th>\n",
       "      <td>CenterNet Resnet50 V2 Keypoints 512x512</td>\n",
       "      <td>30</td>\n",
       "      <td>27.6</td>\n",
       "      <td>Boxes</td>\n",
       "      <td>48.2</td>\n",
       "      <td>Keypoints</td>\n",
       "    </tr>\n",
       "    <tr>\n",
       "      <th>9</th>\n",
       "      <td>CenterNet MobileNetV2 FPN 512x512</td>\n",
       "      <td>6</td>\n",
       "      <td>23.4</td>\n",
       "      <td>Boxes</td>\n",
       "      <td>NaN</td>\n",
       "      <td>NaN</td>\n",
       "    </tr>\n",
       "    <tr>\n",
       "      <th>10</th>\n",
       "      <td>CenterNet MobileNetV2 FPN Keypoints 512x512</td>\n",
       "      <td>6</td>\n",
       "      <td>NaN</td>\n",
       "      <td>NaN</td>\n",
       "      <td>41.7</td>\n",
       "      <td>Keypoints</td>\n",
       "    </tr>\n",
       "    <tr>\n",
       "      <th>11</th>\n",
       "      <td>EfficientDet D0 512x512</td>\n",
       "      <td>39</td>\n",
       "      <td>33.6</td>\n",
       "      <td>Boxes</td>\n",
       "      <td>NaN</td>\n",
       "      <td>NaN</td>\n",
       "    </tr>\n",
       "    <tr>\n",
       "      <th>12</th>\n",
       "      <td>EfficientDet D1 640x640</td>\n",
       "      <td>54</td>\n",
       "      <td>38.4</td>\n",
       "      <td>Boxes</td>\n",
       "      <td>NaN</td>\n",
       "      <td>NaN</td>\n",
       "    </tr>\n",
       "    <tr>\n",
       "      <th>13</th>\n",
       "      <td>EfficientDet D2 768x768</td>\n",
       "      <td>67</td>\n",
       "      <td>41.8</td>\n",
       "      <td>Boxes</td>\n",
       "      <td>NaN</td>\n",
       "      <td>NaN</td>\n",
       "    </tr>\n",
       "    <tr>\n",
       "      <th>14</th>\n",
       "      <td>EfficientDet D3 896x896</td>\n",
       "      <td>95</td>\n",
       "      <td>45.4</td>\n",
       "      <td>Boxes</td>\n",
       "      <td>NaN</td>\n",
       "      <td>NaN</td>\n",
       "    </tr>\n",
       "    <tr>\n",
       "      <th>15</th>\n",
       "      <td>EfficientDet D4 1024x1024</td>\n",
       "      <td>133</td>\n",
       "      <td>48.5</td>\n",
       "      <td>Boxes</td>\n",
       "      <td>NaN</td>\n",
       "      <td>NaN</td>\n",
       "    </tr>\n",
       "    <tr>\n",
       "      <th>16</th>\n",
       "      <td>EfficientDet D5 1280x1280</td>\n",
       "      <td>222</td>\n",
       "      <td>49.7</td>\n",
       "      <td>Boxes</td>\n",
       "      <td>NaN</td>\n",
       "      <td>NaN</td>\n",
       "    </tr>\n",
       "    <tr>\n",
       "      <th>17</th>\n",
       "      <td>EfficientDet D6 1280x1280</td>\n",
       "      <td>268</td>\n",
       "      <td>50.5</td>\n",
       "      <td>Boxes</td>\n",
       "      <td>NaN</td>\n",
       "      <td>NaN</td>\n",
       "    </tr>\n",
       "    <tr>\n",
       "      <th>18</th>\n",
       "      <td>EfficientDet D7 1536x1536</td>\n",
       "      <td>325</td>\n",
       "      <td>51.2</td>\n",
       "      <td>Boxes</td>\n",
       "      <td>NaN</td>\n",
       "      <td>NaN</td>\n",
       "    </tr>\n",
       "    <tr>\n",
       "      <th>19</th>\n",
       "      <td>SSD MobileNet v2 320x320</td>\n",
       "      <td>19</td>\n",
       "      <td>20.2</td>\n",
       "      <td>Boxes</td>\n",
       "      <td>NaN</td>\n",
       "      <td>NaN</td>\n",
       "    </tr>\n",
       "    <tr>\n",
       "      <th>20</th>\n",
       "      <td>SSD MobileNet V1 FPN 640x640</td>\n",
       "      <td>48</td>\n",
       "      <td>29.1</td>\n",
       "      <td>Boxes</td>\n",
       "      <td>NaN</td>\n",
       "      <td>NaN</td>\n",
       "    </tr>\n",
       "    <tr>\n",
       "      <th>21</th>\n",
       "      <td>SSD MobileNet V2 FPNLite 320x320</td>\n",
       "      <td>22</td>\n",
       "      <td>22.2</td>\n",
       "      <td>Boxes</td>\n",
       "      <td>NaN</td>\n",
       "      <td>NaN</td>\n",
       "    </tr>\n",
       "    <tr>\n",
       "      <th>22</th>\n",
       "      <td>SSD MobileNet V2 FPNLite 640x640</td>\n",
       "      <td>39</td>\n",
       "      <td>28.2</td>\n",
       "      <td>Boxes</td>\n",
       "      <td>NaN</td>\n",
       "      <td>NaN</td>\n",
       "    </tr>\n",
       "    <tr>\n",
       "      <th>23</th>\n",
       "      <td>SSD ResNet50 V1 FPN 640x640 (RetinaNet50)</td>\n",
       "      <td>46</td>\n",
       "      <td>34.3</td>\n",
       "      <td>Boxes</td>\n",
       "      <td>NaN</td>\n",
       "      <td>NaN</td>\n",
       "    </tr>\n",
       "    <tr>\n",
       "      <th>24</th>\n",
       "      <td>SSD ResNet50 V1 FPN 1024x1024 (RetinaNet50)</td>\n",
       "      <td>87</td>\n",
       "      <td>38.3</td>\n",
       "      <td>Boxes</td>\n",
       "      <td>NaN</td>\n",
       "      <td>NaN</td>\n",
       "    </tr>\n",
       "    <tr>\n",
       "      <th>25</th>\n",
       "      <td>SSD ResNet101 V1 FPN 640x640 (RetinaNet101)</td>\n",
       "      <td>57</td>\n",
       "      <td>35.6</td>\n",
       "      <td>Boxes</td>\n",
       "      <td>NaN</td>\n",
       "      <td>NaN</td>\n",
       "    </tr>\n",
       "    <tr>\n",
       "      <th>26</th>\n",
       "      <td>SSD ResNet101 V1 FPN 1024x1024 (RetinaNet101)</td>\n",
       "      <td>104</td>\n",
       "      <td>39.5</td>\n",
       "      <td>Boxes</td>\n",
       "      <td>NaN</td>\n",
       "      <td>NaN</td>\n",
       "    </tr>\n",
       "    <tr>\n",
       "      <th>27</th>\n",
       "      <td>SSD ResNet152 V1 FPN 640x640 (RetinaNet152)</td>\n",
       "      <td>80</td>\n",
       "      <td>35.4</td>\n",
       "      <td>Boxes</td>\n",
       "      <td>NaN</td>\n",
       "      <td>NaN</td>\n",
       "    </tr>\n",
       "    <tr>\n",
       "      <th>28</th>\n",
       "      <td>SSD ResNet152 V1 FPN 1024x1024 (RetinaNet152)</td>\n",
       "      <td>111</td>\n",
       "      <td>39.6</td>\n",
       "      <td>Boxes</td>\n",
       "      <td>NaN</td>\n",
       "      <td>NaN</td>\n",
       "    </tr>\n",
       "    <tr>\n",
       "      <th>29</th>\n",
       "      <td>Faster R-CNN ResNet50 V1 640x640</td>\n",
       "      <td>53</td>\n",
       "      <td>29.3</td>\n",
       "      <td>Boxes</td>\n",
       "      <td>NaN</td>\n",
       "      <td>NaN</td>\n",
       "    </tr>\n",
       "    <tr>\n",
       "      <th>30</th>\n",
       "      <td>Faster R-CNN ResNet50 V1 1024x1024</td>\n",
       "      <td>65</td>\n",
       "      <td>31.0</td>\n",
       "      <td>Boxes</td>\n",
       "      <td>NaN</td>\n",
       "      <td>NaN</td>\n",
       "    </tr>\n",
       "    <tr>\n",
       "      <th>31</th>\n",
       "      <td>Faster R-CNN ResNet50 V1 800x1333</td>\n",
       "      <td>65</td>\n",
       "      <td>31.6</td>\n",
       "      <td>Boxes</td>\n",
       "      <td>NaN</td>\n",
       "      <td>NaN</td>\n",
       "    </tr>\n",
       "    <tr>\n",
       "      <th>32</th>\n",
       "      <td>Faster R-CNN ResNet101 V1 640x640</td>\n",
       "      <td>55</td>\n",
       "      <td>31.8</td>\n",
       "      <td>Boxes</td>\n",
       "      <td>NaN</td>\n",
       "      <td>NaN</td>\n",
       "    </tr>\n",
       "    <tr>\n",
       "      <th>33</th>\n",
       "      <td>Faster R-CNN ResNet101 V1 1024x1024</td>\n",
       "      <td>72</td>\n",
       "      <td>37.1</td>\n",
       "      <td>Boxes</td>\n",
       "      <td>NaN</td>\n",
       "      <td>NaN</td>\n",
       "    </tr>\n",
       "    <tr>\n",
       "      <th>34</th>\n",
       "      <td>Faster R-CNN ResNet101 V1 800x1333</td>\n",
       "      <td>77</td>\n",
       "      <td>36.6</td>\n",
       "      <td>Boxes</td>\n",
       "      <td>NaN</td>\n",
       "      <td>NaN</td>\n",
       "    </tr>\n",
       "    <tr>\n",
       "      <th>35</th>\n",
       "      <td>Faster R-CNN ResNet152 V1 640x640</td>\n",
       "      <td>64</td>\n",
       "      <td>32.4</td>\n",
       "      <td>Boxes</td>\n",
       "      <td>NaN</td>\n",
       "      <td>NaN</td>\n",
       "    </tr>\n",
       "    <tr>\n",
       "      <th>36</th>\n",
       "      <td>Faster R-CNN ResNet152 V1 1024x1024</td>\n",
       "      <td>85</td>\n",
       "      <td>37.6</td>\n",
       "      <td>Boxes</td>\n",
       "      <td>NaN</td>\n",
       "      <td>NaN</td>\n",
       "    </tr>\n",
       "    <tr>\n",
       "      <th>37</th>\n",
       "      <td>Faster R-CNN ResNet152 V1 800x1333</td>\n",
       "      <td>101</td>\n",
       "      <td>37.4</td>\n",
       "      <td>Boxes</td>\n",
       "      <td>NaN</td>\n",
       "      <td>NaN</td>\n",
       "    </tr>\n",
       "    <tr>\n",
       "      <th>38</th>\n",
       "      <td>Faster R-CNN Inception ResNet V2 640x640</td>\n",
       "      <td>206</td>\n",
       "      <td>37.7</td>\n",
       "      <td>Boxes</td>\n",
       "      <td>NaN</td>\n",
       "      <td>NaN</td>\n",
       "    </tr>\n",
       "    <tr>\n",
       "      <th>39</th>\n",
       "      <td>Faster R-CNN Inception ResNet V2 1024x1024</td>\n",
       "      <td>236</td>\n",
       "      <td>38.7</td>\n",
       "      <td>Boxes</td>\n",
       "      <td>NaN</td>\n",
       "      <td>NaN</td>\n",
       "    </tr>\n",
       "    <tr>\n",
       "      <th>40</th>\n",
       "      <td>Mask R-CNN Inception ResNet V2 1024x1024</td>\n",
       "      <td>301</td>\n",
       "      <td>39.0</td>\n",
       "      <td>Boxes</td>\n",
       "      <td>34.6</td>\n",
       "      <td>Boxes/Masks</td>\n",
       "    </tr>\n",
       "  </tbody>\n",
       "</table>\n",
       "</div>"
      ],
      "text/plain": [
       "                                       Model name  Speed (ms)  COCO mAP  \\\n",
       "0                  CenterNet HourGlass104 512x512          70      41.9   \n",
       "1        CenterNet HourGlass104 Keypoints 512x512          76      40.0   \n",
       "2                CenterNet HourGlass104 1024x1024         197      44.5   \n",
       "3      CenterNet HourGlass104 Keypoints 1024x1024         211      42.8   \n",
       "4               CenterNet Resnet50 V1 FPN 512x512          27      31.2   \n",
       "5     CenterNet Resnet50 V1 FPN Keypoints 512x512          30      29.3   \n",
       "6              CenterNet Resnet101 V1 FPN 512x512          34      34.2   \n",
       "7                   CenterNet Resnet50 V2 512x512          27      29.5   \n",
       "8         CenterNet Resnet50 V2 Keypoints 512x512          30      27.6   \n",
       "9               CenterNet MobileNetV2 FPN 512x512           6      23.4   \n",
       "10    CenterNet MobileNetV2 FPN Keypoints 512x512           6       NaN   \n",
       "11                        EfficientDet D0 512x512          39      33.6   \n",
       "12                        EfficientDet D1 640x640          54      38.4   \n",
       "13                        EfficientDet D2 768x768          67      41.8   \n",
       "14                        EfficientDet D3 896x896          95      45.4   \n",
       "15                      EfficientDet D4 1024x1024         133      48.5   \n",
       "16                      EfficientDet D5 1280x1280         222      49.7   \n",
       "17                      EfficientDet D6 1280x1280         268      50.5   \n",
       "18                      EfficientDet D7 1536x1536         325      51.2   \n",
       "19                       SSD MobileNet v2 320x320          19      20.2   \n",
       "20                   SSD MobileNet V1 FPN 640x640          48      29.1   \n",
       "21               SSD MobileNet V2 FPNLite 320x320          22      22.2   \n",
       "22               SSD MobileNet V2 FPNLite 640x640          39      28.2   \n",
       "23      SSD ResNet50 V1 FPN 640x640 (RetinaNet50)          46      34.3   \n",
       "24    SSD ResNet50 V1 FPN 1024x1024 (RetinaNet50)          87      38.3   \n",
       "25    SSD ResNet101 V1 FPN 640x640 (RetinaNet101)          57      35.6   \n",
       "26  SSD ResNet101 V1 FPN 1024x1024 (RetinaNet101)         104      39.5   \n",
       "27    SSD ResNet152 V1 FPN 640x640 (RetinaNet152)          80      35.4   \n",
       "28  SSD ResNet152 V1 FPN 1024x1024 (RetinaNet152)         111      39.6   \n",
       "29               Faster R-CNN ResNet50 V1 640x640          53      29.3   \n",
       "30             Faster R-CNN ResNet50 V1 1024x1024          65      31.0   \n",
       "31              Faster R-CNN ResNet50 V1 800x1333          65      31.6   \n",
       "32              Faster R-CNN ResNet101 V1 640x640          55      31.8   \n",
       "33            Faster R-CNN ResNet101 V1 1024x1024          72      37.1   \n",
       "34             Faster R-CNN ResNet101 V1 800x1333          77      36.6   \n",
       "35              Faster R-CNN ResNet152 V1 640x640          64      32.4   \n",
       "36            Faster R-CNN ResNet152 V1 1024x1024          85      37.6   \n",
       "37             Faster R-CNN ResNet152 V1 800x1333         101      37.4   \n",
       "38       Faster R-CNN Inception ResNet V2 640x640         206      37.7   \n",
       "39     Faster R-CNN Inception ResNet V2 1024x1024         236      38.7   \n",
       "40       Mask R-CNN Inception ResNet V2 1024x1024         301      39.0   \n",
       "\n",
       "   Outputs  COCO mAP.1    Outputs.1  \n",
       "0    Boxes         NaN          NaN  \n",
       "1    Boxes        61.4    Keypoints  \n",
       "2    Boxes         NaN          NaN  \n",
       "3    Boxes        64.5    Keypoints  \n",
       "4    Boxes         NaN          NaN  \n",
       "5    Boxes        50.7    Keypoints  \n",
       "6    Boxes         NaN          NaN  \n",
       "7    Boxes         NaN          NaN  \n",
       "8    Boxes        48.2    Keypoints  \n",
       "9    Boxes         NaN          NaN  \n",
       "10     NaN        41.7    Keypoints  \n",
       "11   Boxes         NaN          NaN  \n",
       "12   Boxes         NaN          NaN  \n",
       "13   Boxes         NaN          NaN  \n",
       "14   Boxes         NaN          NaN  \n",
       "15   Boxes         NaN          NaN  \n",
       "16   Boxes         NaN          NaN  \n",
       "17   Boxes         NaN          NaN  \n",
       "18   Boxes         NaN          NaN  \n",
       "19   Boxes         NaN          NaN  \n",
       "20   Boxes         NaN          NaN  \n",
       "21   Boxes         NaN          NaN  \n",
       "22   Boxes         NaN          NaN  \n",
       "23   Boxes         NaN          NaN  \n",
       "24   Boxes         NaN          NaN  \n",
       "25   Boxes         NaN          NaN  \n",
       "26   Boxes         NaN          NaN  \n",
       "27   Boxes         NaN          NaN  \n",
       "28   Boxes         NaN          NaN  \n",
       "29   Boxes         NaN          NaN  \n",
       "30   Boxes         NaN          NaN  \n",
       "31   Boxes         NaN          NaN  \n",
       "32   Boxes         NaN          NaN  \n",
       "33   Boxes         NaN          NaN  \n",
       "34   Boxes         NaN          NaN  \n",
       "35   Boxes         NaN          NaN  \n",
       "36   Boxes         NaN          NaN  \n",
       "37   Boxes         NaN          NaN  \n",
       "38   Boxes         NaN          NaN  \n",
       "39   Boxes         NaN          NaN  \n",
       "40   Boxes        34.6  Boxes/Masks  "
      ]
     },
     "execution_count": 2,
     "metadata": {},
     "output_type": "execute_result"
    }
   ],
   "source": [
    "df=pd.read_excel('./files/modelZoo.xlsx')\n",
    "df"
   ]
  },
  {
   "cell_type": "code",
   "execution_count": 3,
   "metadata": {},
   "outputs": [
    {
     "data": {
      "text/plain": [
       "Index(['Model name', 'Speed (ms)', 'COCO mAP', 'Outputs', 'COCO mAP.1',\n",
       "       'Outputs.1'],\n",
       "      dtype='object')"
      ]
     },
     "execution_count": 3,
     "metadata": {},
     "output_type": "execute_result"
    }
   ],
   "source": [
    "df.columns"
   ]
  },
  {
   "cell_type": "code",
   "execution_count": 4,
   "metadata": {},
   "outputs": [
    {
     "data": {
      "text/html": [
       "<div>\n",
       "<style scoped>\n",
       "    .dataframe tbody tr th:only-of-type {\n",
       "        vertical-align: middle;\n",
       "    }\n",
       "\n",
       "    .dataframe tbody tr th {\n",
       "        vertical-align: top;\n",
       "    }\n",
       "\n",
       "    .dataframe thead th {\n",
       "        text-align: right;\n",
       "    }\n",
       "</style>\n",
       "<table border=\"1\" class=\"dataframe\">\n",
       "  <thead>\n",
       "    <tr style=\"text-align: right;\">\n",
       "      <th></th>\n",
       "      <th>Model name</th>\n",
       "      <th>Speed (ms)</th>\n",
       "      <th>COCO-mAP-Boxes</th>\n",
       "      <th>Boxes</th>\n",
       "      <th>COCO-mAP-KeyPoints</th>\n",
       "      <th>KeyPoints</th>\n",
       "    </tr>\n",
       "  </thead>\n",
       "  <tbody>\n",
       "    <tr>\n",
       "      <th>0</th>\n",
       "      <td>CenterNet HourGlass104 512x512</td>\n",
       "      <td>70</td>\n",
       "      <td>41.9</td>\n",
       "      <td>Boxes</td>\n",
       "      <td>NaN</td>\n",
       "      <td>NaN</td>\n",
       "    </tr>\n",
       "    <tr>\n",
       "      <th>1</th>\n",
       "      <td>CenterNet HourGlass104 Keypoints 512x512</td>\n",
       "      <td>76</td>\n",
       "      <td>40.0</td>\n",
       "      <td>Boxes</td>\n",
       "      <td>61.4</td>\n",
       "      <td>Keypoints</td>\n",
       "    </tr>\n",
       "    <tr>\n",
       "      <th>2</th>\n",
       "      <td>CenterNet HourGlass104 1024x1024</td>\n",
       "      <td>197</td>\n",
       "      <td>44.5</td>\n",
       "      <td>Boxes</td>\n",
       "      <td>NaN</td>\n",
       "      <td>NaN</td>\n",
       "    </tr>\n",
       "    <tr>\n",
       "      <th>3</th>\n",
       "      <td>CenterNet HourGlass104 Keypoints 1024x1024</td>\n",
       "      <td>211</td>\n",
       "      <td>42.8</td>\n",
       "      <td>Boxes</td>\n",
       "      <td>64.5</td>\n",
       "      <td>Keypoints</td>\n",
       "    </tr>\n",
       "    <tr>\n",
       "      <th>4</th>\n",
       "      <td>CenterNet Resnet50 V1 FPN 512x512</td>\n",
       "      <td>27</td>\n",
       "      <td>31.2</td>\n",
       "      <td>Boxes</td>\n",
       "      <td>NaN</td>\n",
       "      <td>NaN</td>\n",
       "    </tr>\n",
       "  </tbody>\n",
       "</table>\n",
       "</div>"
      ],
      "text/plain": [
       "                                   Model name  Speed (ms)  COCO-mAP-Boxes  \\\n",
       "0              CenterNet HourGlass104 512x512          70            41.9   \n",
       "1    CenterNet HourGlass104 Keypoints 512x512          76            40.0   \n",
       "2            CenterNet HourGlass104 1024x1024         197            44.5   \n",
       "3  CenterNet HourGlass104 Keypoints 1024x1024         211            42.8   \n",
       "4           CenterNet Resnet50 V1 FPN 512x512          27            31.2   \n",
       "\n",
       "   Boxes  COCO-mAP-KeyPoints  KeyPoints  \n",
       "0  Boxes                 NaN        NaN  \n",
       "1  Boxes                61.4  Keypoints  \n",
       "2  Boxes                 NaN        NaN  \n",
       "3  Boxes                64.5  Keypoints  \n",
       "4  Boxes                 NaN        NaN  "
      ]
     },
     "execution_count": 4,
     "metadata": {},
     "output_type": "execute_result"
    }
   ],
   "source": [
    "df.rename(columns={\"COCO mAP\": \"COCO-mAP-Boxes\", \"Outputs\": \"Boxes\", \"COCO mAP.1\":\"COCO-mAP-KeyPoints\", \"Outputs.1\": \"KeyPoints\"}, inplace=True)\n",
    "# df.fillna(0, inplace=True)\n",
    "df.head()"
   ]
  },
  {
   "cell_type": "code",
   "execution_count": 5,
   "metadata": {},
   "outputs": [
    {
     "data": {
      "text/html": [
       "<div>\n",
       "<style scoped>\n",
       "    .dataframe tbody tr th:only-of-type {\n",
       "        vertical-align: middle;\n",
       "    }\n",
       "\n",
       "    .dataframe tbody tr th {\n",
       "        vertical-align: top;\n",
       "    }\n",
       "\n",
       "    .dataframe thead th {\n",
       "        text-align: right;\n",
       "    }\n",
       "</style>\n",
       "<table border=\"1\" class=\"dataframe\">\n",
       "  <thead>\n",
       "    <tr style=\"text-align: right;\">\n",
       "      <th></th>\n",
       "      <th>Model name</th>\n",
       "      <th>Speed (ms)</th>\n",
       "      <th>COCO-mAP-Boxes</th>\n",
       "      <th>Boxes</th>\n",
       "      <th>COCO-mAP-KeyPoints</th>\n",
       "      <th>KeyPoints</th>\n",
       "    </tr>\n",
       "  </thead>\n",
       "  <tbody>\n",
       "    <tr>\n",
       "      <th>0</th>\n",
       "      <td>CenterNet HourGlass104 512x512</td>\n",
       "      <td>70</td>\n",
       "      <td>41.9</td>\n",
       "      <td>1.0</td>\n",
       "      <td>NaN</td>\n",
       "      <td>NaN</td>\n",
       "    </tr>\n",
       "    <tr>\n",
       "      <th>1</th>\n",
       "      <td>CenterNet HourGlass104 Keypoints 512x512</td>\n",
       "      <td>76</td>\n",
       "      <td>40.0</td>\n",
       "      <td>1.0</td>\n",
       "      <td>61.4</td>\n",
       "      <td>Keypoints</td>\n",
       "    </tr>\n",
       "    <tr>\n",
       "      <th>2</th>\n",
       "      <td>CenterNet HourGlass104 1024x1024</td>\n",
       "      <td>197</td>\n",
       "      <td>44.5</td>\n",
       "      <td>1.0</td>\n",
       "      <td>NaN</td>\n",
       "      <td>NaN</td>\n",
       "    </tr>\n",
       "    <tr>\n",
       "      <th>3</th>\n",
       "      <td>CenterNet HourGlass104 Keypoints 1024x1024</td>\n",
       "      <td>211</td>\n",
       "      <td>42.8</td>\n",
       "      <td>1.0</td>\n",
       "      <td>64.5</td>\n",
       "      <td>Keypoints</td>\n",
       "    </tr>\n",
       "    <tr>\n",
       "      <th>4</th>\n",
       "      <td>CenterNet Resnet50 V1 FPN 512x512</td>\n",
       "      <td>27</td>\n",
       "      <td>31.2</td>\n",
       "      <td>1.0</td>\n",
       "      <td>NaN</td>\n",
       "      <td>NaN</td>\n",
       "    </tr>\n",
       "  </tbody>\n",
       "</table>\n",
       "</div>"
      ],
      "text/plain": [
       "                                   Model name  Speed (ms)  COCO-mAP-Boxes  \\\n",
       "0              CenterNet HourGlass104 512x512          70            41.9   \n",
       "1    CenterNet HourGlass104 Keypoints 512x512          76            40.0   \n",
       "2            CenterNet HourGlass104 1024x1024         197            44.5   \n",
       "3  CenterNet HourGlass104 Keypoints 1024x1024         211            42.8   \n",
       "4           CenterNet Resnet50 V1 FPN 512x512          27            31.2   \n",
       "\n",
       "   Boxes  COCO-mAP-KeyPoints  KeyPoints  \n",
       "0    1.0                 NaN        NaN  \n",
       "1    1.0                61.4  Keypoints  \n",
       "2    1.0                 NaN        NaN  \n",
       "3    1.0                64.5  Keypoints  \n",
       "4    1.0                 NaN        NaN  "
      ]
     },
     "execution_count": 5,
     "metadata": {},
     "output_type": "execute_result"
    }
   ],
   "source": [
    "df['Boxes'] = df['Boxes'].replace('Boxes', 1)\n",
    "df.head()"
   ]
  },
  {
   "cell_type": "code",
   "execution_count": 6,
   "metadata": {},
   "outputs": [
    {
     "data": {
      "image/png": "[encoded data removed]",
      "text/plain": [
       "<Figure size 640x480 with 1 Axes>"
      ]
     },
     "metadata": {},
     "output_type": "display_data"
    }
   ],
   "source": [
    "plt.scatter(df[\"Speed (ms)\"], df[\"COCO-mAP-Boxes\"])\n",
    "plt.show()"
   ]
  },
  {
   "cell_type": "code",
   "execution_count": 7,
   "metadata": {},
   "outputs": [],
   "source": [
    "import plotly.express as px"
   ]
  },
  {
   "cell_type": "code",
   "execution_count": 8,
   "metadata": {},
   "outputs": [
    {
     "data": {
      "application/vnd.plotly.v1+json": {
       "config": {
        "plotlyServerURL": "https://plot.ly"
       },
       "data": [
        {
         "hovertemplate": "Speed (ms)=%{x}<br>COCO-mAP=%{y}<br>Model name=%{text}<extra></extra>",
         "legendgroup": "",
         "marker": {
          "color": "#636efa",
          "symbol": "circle"
         },
         "mode": "markers+text",
         "name": "",
         "orientation": "v",
         "showlegend": false,
         "text": [
          "CenterNet HourGlass104 512x512",
          "CenterNet HourGlass104 Keypoints 512x512",
          "CenterNet HourGlass104 1024x1024",
          "CenterNet HourGlass104 Keypoints 1024x1024",
          "CenterNet Resnet50 V1 FPN 512x512",
          "CenterNet Resnet50 V1 FPN Keypoints 512x512",
          "CenterNet Resnet101 V1 FPN 512x512",
          "CenterNet Resnet50 V2 512x512",
          "CenterNet Resnet50 V2 Keypoints 512x512",
          "CenterNet MobileNetV2 FPN 512x512",
          "CenterNet MobileNetV2 FPN Keypoints 512x512",
          "EfficientDet D0 512x512",
          "EfficientDet D1 640x640",
          "EfficientDet D2 768x768",
          "EfficientDet D3 896x896",
          "EfficientDet D4 1024x1024",
          "EfficientDet D5 1280x1280",
          "EfficientDet D6 1280x1280",
          "EfficientDet D7 1536x1536",
          "SSD MobileNet v2 320x320",
          "SSD MobileNet V1 FPN 640x640",
          "SSD MobileNet V2 FPNLite 320x320",
          "SSD MobileNet V2 FPNLite 640x640",
          "SSD ResNet50 V1 FPN 640x640 (RetinaNet50)",
          "SSD ResNet50 V1 FPN 1024x1024 (RetinaNet50)",
          "SSD ResNet101 V1 FPN 640x640 (RetinaNet101)",
          "SSD ResNet101 V1 FPN 1024x1024 (RetinaNet101)",
          "SSD ResNet152 V1 FPN 640x640 (RetinaNet152)",
          "SSD ResNet152 V1 FPN 1024x1024 (RetinaNet152)",
          "Faster R-CNN ResNet50 V1 640x640",
          "Faster R-CNN ResNet50 V1 1024x1024",
          "Faster R-CNN ResNet50 V1 800x1333",
          "Faster R-CNN ResNet101 V1 640x640",
          "Faster R-CNN ResNet101 V1 1024x1024",
          "Faster R-CNN ResNet101 V1 800x1333",
          "Faster R-CNN ResNet152 V1 640x640",
          "Faster R-CNN ResNet152 V1 1024x1024",
          "Faster R-CNN ResNet152 V1 800x1333",
          "Faster R-CNN Inception ResNet V2 640x640",
          "Faster R-CNN Inception ResNet V2 1024x1024",
          "Mask R-CNN Inception ResNet V2 1024x1024"
         ],
         "textposition": "top center",
         "type": "scatter",
         "x": [
          70,
          76,
          197,
          211,
          27,
          30,
          34,
          27,
          30,
          6,
          6,
          39,
          54,
          67,
          95,
          133,
          222,
          268,
          325,
          19,
          48,
          22,
          39,
          46,
          87,
          57,
          104,
          80,
          111,
          53,
          65,
          65,
          55,
          72,
          77,
          64,
          85,
          101,
          206,
          236,
          301
         ],
         "xaxis": "x",
         "y": [
          41.9,
          40,
          44.5,
          42.8,
          31.2,
          29.3,
          34.2,
          29.5,
          27.6,
          23.4,
          null,
          33.6,
          38.4,
          41.8,
          45.4,
          48.5,
          49.7,
          50.5,
          51.2,
          20.2,
          29.1,
          22.2,
          28.2,
          34.3,
          38.3,
          35.6,
          39.5,
          35.4,
          39.6,
          29.3,
          31,
          31.6,
          31.8,
          37.1,
          36.6,
          32.4,
          37.6,
          37.4,
          37.7,
          38.7,
          39
         ],
         "yaxis": "y"
        }
       ],
       "layout": {
        "font": {
         "family": "Courier New, monospace",
         "size": 10
        },
        "height": 800,
        "legend": {
         "tracegroupgap": 0
        },
        "margin": {
         "t": 60
        },
        "template": {
         "data": {
          "bar": [
           {
            "error_x": {
             "color": "#2a3f5f"
            },
            "error_y": {
             "color": "#2a3f5f"
            },
            "marker": {
             "line": {
              "color": "#E5ECF6",
              "width": 0.5
             },
             "pattern": {
              "fillmode": "overlay",
              "size": 10,
              "solidity": 0.2
             }
            },
            "type": "bar"
           }
          ],
          "barpolar": [
           {
            "marker": {
             "line": {
              "color": "#E5ECF6",
              "width": 0.5
             },
             "pattern": {
              "fillmode": "overlay",
              "size": 10,
              "solidity": 0.2
             }
            },
            "type": "barpolar"
           }
          ],
          "carpet": [
           {
            "aaxis": {
             "endlinecolor": "#2a3f5f",
             "gridcolor": "white",
             "linecolor": "white",
             "minorgridcolor": "white",
             "startlinecolor": "#2a3f5f"
            },
            "baxis": {
             "endlinecolor": "#2a3f5f",
             "gridcolor": "white",
             "linecolor": "white",
             "minorgridcolor": "white",
             "startlinecolor": "#2a3f5f"
            },
            "type": "carpet"
           }
          ],
          "choropleth": [
           {
            "colorbar": {
             "outlinewidth": 0,
             "ticks": ""
            },
            "type": "choropleth"
           }
          ],
          "contour": [
           {
            "colorbar": {
             "outlinewidth": 0,
             "ticks": ""
            },
            "colorscale": [
             [
              0,
              "#0d0887"
             ],
             [
              0.1111111111111111,
              "#46039f"
             ],
             [
              0.2222222222222222,
              "#7201a8"
             ],
             [
              0.3333333333333333,
              "#9c179e"
             ],
             [
              0.4444444444444444,
              "#bd3786"
             ],
             [
              0.5555555555555556,
              "#d8576b"
             ],
             [
              0.6666666666666666,
              "#ed7953"
             ],
             [
              0.7777777777777778,
              "#fb9f3a"
             ],
             [
              0.8888888888888888,
              "#fdca26"
             ],
             [
              1,
              "#f0f921"
             ]
            ],
            "type": "contour"
           }
          ],
          "contourcarpet": [
           {
            "colorbar": {
             "outlinewidth": 0,
             "ticks": ""
            },
            "type": "contourcarpet"
           }
          ],
          "heatmap": [
           {
            "colorbar": {
             "outlinewidth": 0,
             "ticks": ""
            },
            "colorscale": [
             [
              0,
              "#0d0887"
             ],
             [
              0.1111111111111111,
              "#46039f"
             ],
             [
              0.2222222222222222,
              "#7201a8"
             ],
             [
              0.3333333333333333,
              "#9c179e"
             ],
             [
              0.4444444444444444,
              "#bd3786"
             ],
             [
              0.5555555555555556,
              "#d8576b"
             ],
             [
              0.6666666666666666,
              "#ed7953"
             ],
             [
              0.7777777777777778,
              "#fb9f3a"
             ],
             [
              0.8888888888888888,
              "#fdca26"
             ],
             [
              1,
              "#f0f921"
             ]
            ],
            "type": "heatmap"
           }
          ],
          "heatmapgl": [
           {
            "colorbar": {
             "outlinewidth": 0,
             "ticks": ""
            },
            "colorscale": [
             [
              0,
              "#0d0887"
             ],
             [
              0.1111111111111111,
              "#46039f"
             ],
             [
              0.2222222222222222,
              "#7201a8"
             ],
             [
              0.3333333333333333,
              "#9c179e"
             ],
             [
              0.4444444444444444,
              "#bd3786"
             ],
             [
              0.5555555555555556,
              "#d8576b"
             ],
             [
              0.6666666666666666,
              "#ed7953"
             ],
             [
              0.7777777777777778,
              "#fb9f3a"
             ],
             [
              0.8888888888888888,
              "#fdca26"
             ],
             [
              1,
              "#f0f921"
             ]
            ],
            "type": "heatmapgl"
           }
          ],
          "histogram": [
           {
            "marker": {
             "pattern": {
              "fillmode": "overlay",
              "size": 10,
              "solidity": 0.2
             }
            },
            "type": "histogram"
           }
          ],
          "histogram2d": [
           {
            "colorbar": {
             "outlinewidth": 0,
             "ticks": ""
            },
            "colorscale": [
             [
              0,
              "#0d0887"
             ],
             [
              0.1111111111111111,
              "#46039f"
             ],
             [
              0.2222222222222222,
              "#7201a8"
             ],
             [
              0.3333333333333333,
              "#9c179e"
             ],
             [
              0.4444444444444444,
              "#bd3786"
             ],
             [
              0.5555555555555556,
              "#d8576b"
             ],
             [
              0.6666666666666666,
              "#ed7953"
             ],
             [
              0.7777777777777778,
              "#fb9f3a"
             ],
             [
              0.8888888888888888,
              "#fdca26"
             ],
             [
              1,
              "#f0f921"
             ]
            ],
            "type": "histogram2d"
           }
          ],
          "histogram2dcontour": [
           {
            "colorbar": {
             "outlinewidth": 0,
             "ticks": ""
            },
            "colorscale": [
             [
              0,
              "#0d0887"
             ],
             [
              0.1111111111111111,
              "#46039f"
             ],
             [
              0.2222222222222222,
              "#7201a8"
             ],
             [
              0.3333333333333333,
              "#9c179e"
             ],
             [
              0.4444444444444444,
              "#bd3786"
             ],
             [
              0.5555555555555556,
              "#d8576b"
             ],
             [
              0.6666666666666666,
              "#ed7953"
             ],
             [
              0.7777777777777778,
              "#fb9f3a"
             ],
             [
              0.8888888888888888,
              "#fdca26"
             ],
             [
              1,
              "#f0f921"
             ]
            ],
            "type": "histogram2dcontour"
           }
          ],
          "mesh3d": [
           {
            "colorbar": {
             "outlinewidth": 0,
             "ticks": ""
            },
            "type": "mesh3d"
           }
          ],
          "parcoords": [
           {
            "line": {
             "colorbar": {
              "outlinewidth": 0,
              "ticks": ""
             }
            },
            "type": "parcoords"
           }
          ],
          "pie": [
           {
            "automargin": true,
            "type": "pie"
           }
          ],
          "scatter": [
           {
            "fillpattern": {
             "fillmode": "overlay",
             "size": 10,
             "solidity": 0.2
            },
            "type": "scatter"
           }
          ],
          "scatter3d": [
           {
            "line": {
             "colorbar": {
              "outlinewidth": 0,
              "ticks": ""
             }
            },
            "marker": {
             "colorbar": {
              "outlinewidth": 0,
              "ticks": ""
             }
            },
            "type": "scatter3d"
           }
          ],
          "scattercarpet": [
           {
            "marker": {
             "colorbar": {
              "outlinewidth": 0,
              "ticks": ""
             }
            },
            "type": "scattercarpet"
           }
          ],
          "scattergeo": [
           {
            "marker": {
             "colorbar": {
              "outlinewidth": 0,
              "ticks": ""
             }
            },
            "type": "scattergeo"
           }
          ],
          "scattergl": [
           {
            "marker": {
             "colorbar": {
              "outlinewidth": 0,
              "ticks": ""
             }
            },
            "type": "scattergl"
           }
          ],
          "scattermapbox": [
           {
            "marker": {
             "colorbar": {
              "outlinewidth": 0,
              "ticks": ""
             }
            },
            "type": "scattermapbox"
           }
          ],
          "scatterpolar": [
           {
            "marker": {
             "colorbar": {
              "outlinewidth": 0,
              "ticks": ""
             }
            },
            "type": "scatterpolar"
           }
          ],
          "scatterpolargl": [
           {
            "marker": {
             "colorbar": {
              "outlinewidth": 0,
              "ticks": ""
             }
            },
            "type": "scatterpolargl"
           }
          ],
          "scatterternary": [
           {
            "marker": {
             "colorbar": {
              "outlinewidth": 0,
              "ticks": ""
             }
            },
            "type": "scatterternary"
           }
          ],
          "surface": [
           {
            "colorbar": {
             "outlinewidth": 0,
             "ticks": ""
            },
            "colorscale": [
             [
              0,
              "#0d0887"
             ],
             [
              0.1111111111111111,
              "#46039f"
             ],
             [
              0.2222222222222222,
              "#7201a8"
             ],
             [
              0.3333333333333333,
              "#9c179e"
             ],
             [
              0.4444444444444444,
              "#bd3786"
             ],
             [
              0.5555555555555556,
              "#d8576b"
             ],
             [
              0.6666666666666666,
              "#ed7953"
             ],
             [
              0.7777777777777778,
              "#fb9f3a"
             ],
             [
              0.8888888888888888,
              "#fdca26"
             ],
             [
              1,
              "#f0f921"
             ]
            ],
            "type": "surface"
           }
          ],
          "table": [
           {
            "cells": {
             "fill": {
              "color": "#EBF0F8"
             },
             "line": {
              "color": "white"
             }
            },
            "header": {
             "fill": {
              "color": "#C8D4E3"
             },
             "line": {
              "color": "white"
             }
            },
            "type": "table"
           }
          ]
         },
         "layout": {
          "annotationdefaults": {
           "arrowcolor": "#2a3f5f",
           "arrowhead": 0,
           "arrowwidth": 1
          },
          "autotypenumbers": "strict",
          "coloraxis": {
           "colorbar": {
            "outlinewidth": 0,
            "ticks": ""
           }
          },
          "colorscale": {
           "diverging": [
            [
             0,
             "#8e0152"
            ],
            [
             0.1,
             "#c51b7d"
            ],
            [
             0.2,
             "#de77ae"
            ],
            [
             0.3,
             "#f1b6da"
            ],
            [
             0.4,
             "#fde0ef"
            ],
            [
             0.5,
             "#f7f7f7"
            ],
            [
             0.6,
             "#e6f5d0"
            ],
            [
             0.7,
             "#b8e186"
            ],
            [
             0.8,
             "#7fbc41"
            ],
            [
             0.9,
             "#4d9221"
            ],
            [
             1,
             "#276419"
            ]
           ],
           "sequential": [
            [
             0,
             "#0d0887"
            ],
            [
             0.1111111111111111,
             "#46039f"
            ],
            [
             0.2222222222222222,
             "#7201a8"
            ],
            [
             0.3333333333333333,
             "#9c179e"
            ],
            [
             0.4444444444444444,
             "#bd3786"
            ],
            [
             0.5555555555555556,
             "#d8576b"
            ],
            [
             0.6666666666666666,
             "#ed7953"
            ],
            [
             0.7777777777777778,
             "#fb9f3a"
            ],
            [
             0.8888888888888888,
             "#fdca26"
            ],
            [
             1,
             "#f0f921"
            ]
           ],
           "sequentialminus": [
            [
             0,
             "#0d0887"
            ],
            [
             0.1111111111111111,
             "#46039f"
            ],
            [
             0.2222222222222222,
             "#7201a8"
            ],
            [
             0.3333333333333333,
             "#9c179e"
            ],
            [
             0.4444444444444444,
             "#bd3786"
            ],
            [
             0.5555555555555556,
             "#d8576b"
            ],
            [
             0.6666666666666666,
             "#ed7953"
            ],
            [
             0.7777777777777778,
             "#fb9f3a"
            ],
            [
             0.8888888888888888,
             "#fdca26"
            ],
            [
             1,
             "#f0f921"
            ]
           ]
          },
          "colorway": [
           "#636efa",
           "#EF553B",
           "#00cc96",
           "#ab63fa",
           "#FFA15A",
           "#19d3f3",
           "#FF6692",
           "#B6E880",
           "#FF97FF",
           "#FECB52"
          ],
          "font": {
           "color": "#2a3f5f"
          },
          "geo": {
           "bgcolor": "white",
           "lakecolor": "white",
           "landcolor": "#E5ECF6",
           "showlakes": true,
           "showland": true,
           "subunitcolor": "white"
          },
          "hoverlabel": {
           "align": "left"
          },
          "hovermode": "closest",
          "mapbox": {
           "style": "light"
          },
          "paper_bgcolor": "white",
          "plot_bgcolor": "#E5ECF6",
          "polar": {
           "angularaxis": {
            "gridcolor": "white",
            "linecolor": "white",
            "ticks": ""
           },
           "bgcolor": "#E5ECF6",
           "radialaxis": {
            "gridcolor": "white",
            "linecolor": "white",
            "ticks": ""
           }
          },
          "scene": {
           "xaxis": {
            "backgroundcolor": "#E5ECF6",
            "gridcolor": "white",
            "gridwidth": 2,
            "linecolor": "white",
            "showbackground": true,
            "ticks": "",
            "zerolinecolor": "white"
           },
           "yaxis": {
            "backgroundcolor": "#E5ECF6",
            "gridcolor": "white",
            "gridwidth": 2,
            "linecolor": "white",
            "showbackground": true,
            "ticks": "",
            "zerolinecolor": "white"
           },
           "zaxis": {
            "backgroundcolor": "#E5ECF6",
            "gridcolor": "white",
            "gridwidth": 2,
            "linecolor": "white",
            "showbackground": true,
            "ticks": "",
            "zerolinecolor": "white"
           }
          },
          "shapedefaults": {
           "line": {
            "color": "#2a3f5f"
           }
          },
          "ternary": {
           "aaxis": {
            "gridcolor": "white",
            "linecolor": "white",
            "ticks": ""
           },
           "baxis": {
            "gridcolor": "white",
            "linecolor": "white",
            "ticks": ""
           },
           "bgcolor": "#E5ECF6",
           "caxis": {
            "gridcolor": "white",
            "linecolor": "white",
            "ticks": ""
           }
          },
          "title": {
           "x": 0.05
          },
          "xaxis": {
           "automargin": true,
           "gridcolor": "white",
           "linecolor": "white",
           "ticks": "",
           "title": {
            "standoff": 15
           },
           "zerolinecolor": "white",
           "zerolinewidth": 2
          },
          "yaxis": {
           "automargin": true,
           "gridcolor": "white",
           "linecolor": "white",
           "ticks": "",
           "title": {
            "standoff": 15
           },
           "zerolinecolor": "white",
           "zerolinewidth": 2
          }
         }
        },
        "title": {
         "font": {
          "size": 20
         },
         "text": "Speed and mAP Tradoff",
         "x": 0.5
        },
        "width": 1200,
        "xaxis": {
         "anchor": "y",
         "domain": [
          0,
          1
         ],
         "tickfont": {
          "size": 16
         },
         "title": {
          "font": {
           "size": 20
          },
          "text": "Speed (ms)"
         }
        },
        "yaxis": {
         "anchor": "x",
         "domain": [
          0,
          1
         ],
         "tickfont": {
          "size": 16
         },
         "title": {
          "font": {
           "size": 20
          },
          "text": "COCO-mAP"
         }
        }
       }
      }
     },
     "metadata": {},
     "output_type": "display_data"
    }
   ],
   "source": [
    "fig = px.scatter(df, x=\"Speed (ms)\", y=\"COCO-mAP-Boxes\", text=\"Model name\", width=1200, height=800,\n",
    "                 labels={\n",
    "                     \"Speed (ms)\": \"Speed (ms)\",\n",
    "                     \"COCO-mAP-Boxes\": \"COCO-mAP\",\n",
    "                 })\n",
    "# fig = px.scatter(df, x=\"Speed (ms)\", y=\"COCO-mAP-KeyPoints\", text=\"Model name\", width=1200, height=800,\n",
    "#                  labels={\n",
    "#                      \"Speed (ms)\": \"Speed (ms)\",\n",
    "#                      \"COCO-mAP-KeyPoints\": \"COCO-mAP\",\n",
    "#                  })\n",
    "fig.update_traces(textposition='top center')\n",
    "fig.update_layout(\n",
    "    font=dict(\n",
    "        family=\"Courier New, monospace\",\n",
    "        size=10,  # Set the font size here\n",
    "    ))\n",
    "fig.update_layout(\n",
    "    title=dict(\n",
    "            text='Speed and mAP Tradoff', \n",
    "            x=0.5,\n",
    "            font_size=20,\n",
    "    ))\n",
    "fig.update_layout(\n",
    "    xaxis=dict(\n",
    "        tickfont=dict(\n",
    "            size=16,\n",
    "        ),\n",
    "        title_font=dict(\n",
    "            size=20,\n",
    "        ),\n",
    "    ),\n",
    ")\n",
    "fig.update_layout(\n",
    "    yaxis=dict(\n",
    "        tickfont=dict(\n",
    "            size=16,\n",
    "        ),\n",
    "        title_font=dict(\n",
    "            size=20,\n",
    "        ),\n",
    "    ),\n",
    ")\n",
    "# Display plot\n",
    "fig.show()"
   ]
  },
  {
   "cell_type": "code",
   "execution_count": 9,
   "metadata": {},
   "outputs": [
    {
     "data": {
      "application/vnd.plotly.v1+json": {
       "config": {
        "displaylogo": false,
        "plotlyServerURL": "https://plot.ly"
       },
       "data": [
        {
         "marker": {
          "opacity": 0.8,
          "size": 8
         },
         "mode": "markers",
         "name": "Boxes",
         "text": [
          "CenterNet HourGlass104 512x512",
          "CenterNet HourGlass104 Keypoints 512x512",
          "CenterNet HourGlass104 1024x1024",
          "CenterNet HourGlass104 Keypoints 1024x1024",
          "CenterNet Resnet50 V1 FPN 512x512",
          "CenterNet Resnet50 V1 FPN Keypoints 512x512",
          "CenterNet Resnet101 V1 FPN 512x512",
          "CenterNet Resnet50 V2 512x512",
          "CenterNet Resnet50 V2 Keypoints 512x512",
          "CenterNet MobileNetV2 FPN 512x512",
          "CenterNet MobileNetV2 FPN Keypoints 512x512",
          "EfficientDet D0 512x512",
          "EfficientDet D1 640x640",
          "EfficientDet D2 768x768",
          "EfficientDet D3 896x896",
          "EfficientDet D4 1024x1024",
          "EfficientDet D5 1280x1280",
          "EfficientDet D6 1280x1280",
          "EfficientDet D7 1536x1536",
          "SSD MobileNet v2 320x320",
          "SSD MobileNet V1 FPN 640x640",
          "SSD MobileNet V2 FPNLite 320x320",
          "SSD MobileNet V2 FPNLite 640x640",
          "SSD ResNet50 V1 FPN 640x640 (RetinaNet50)",
          "SSD ResNet50 V1 FPN 1024x1024 (RetinaNet50)",
          "SSD ResNet101 V1 FPN 640x640 (RetinaNet101)",
          "SSD ResNet101 V1 FPN 1024x1024 (RetinaNet101)",
          "SSD ResNet152 V1 FPN 640x640 (RetinaNet152)",
          "SSD ResNet152 V1 FPN 1024x1024 (RetinaNet152)",
          "Faster R-CNN ResNet50 V1 640x640",
          "Faster R-CNN ResNet50 V1 1024x1024",
          "Faster R-CNN ResNet50 V1 800x1333",
          "Faster R-CNN ResNet101 V1 640x640",
          "Faster R-CNN ResNet101 V1 1024x1024",
          "Faster R-CNN ResNet101 V1 800x1333",
          "Faster R-CNN ResNet152 V1 640x640",
          "Faster R-CNN ResNet152 V1 1024x1024",
          "Faster R-CNN ResNet152 V1 800x1333",
          "Faster R-CNN Inception ResNet V2 640x640",
          "Faster R-CNN Inception ResNet V2 1024x1024",
          "Mask R-CNN Inception ResNet V2 1024x1024"
         ],
         "textposition": "top center",
         "type": "scatter",
         "x": [
          70,
          76,
          197,
          211,
          27,
          30,
          34,
          27,
          30,
          6,
          6,
          39,
          54,
          67,
          95,
          133,
          222,
          268,
          325,
          19,
          48,
          22,
          39,
          46,
          87,
          57,
          104,
          80,
          111,
          53,
          65,
          65,
          55,
          72,
          77,
          64,
          85,
          101,
          206,
          236,
          301
         ],
         "y": [
          41.9,
          40,
          44.5,
          42.8,
          31.2,
          29.3,
          34.2,
          29.5,
          27.6,
          23.4,
          null,
          33.6,
          38.4,
          41.8,
          45.4,
          48.5,
          49.7,
          50.5,
          51.2,
          20.2,
          29.1,
          22.2,
          28.2,
          34.3,
          38.3,
          35.6,
          39.5,
          35.4,
          39.6,
          29.3,
          31,
          31.6,
          31.8,
          37.1,
          36.6,
          32.4,
          37.6,
          37.4,
          37.7,
          38.7,
          39
         ]
        },
        {
         "marker": {
          "opacity": 0.8,
          "size": 8
         },
         "mode": "markers",
         "name": "KeyPoints",
         "text": [
          "CenterNet HourGlass104 512x512",
          "CenterNet HourGlass104 Keypoints 512x512",
          "CenterNet HourGlass104 1024x1024",
          "CenterNet HourGlass104 Keypoints 1024x1024",
          "CenterNet Resnet50 V1 FPN 512x512",
          "CenterNet Resnet50 V1 FPN Keypoints 512x512",
          "CenterNet Resnet101 V1 FPN 512x512",
          "CenterNet Resnet50 V2 512x512",
          "CenterNet Resnet50 V2 Keypoints 512x512",
          "CenterNet MobileNetV2 FPN 512x512",
          "CenterNet MobileNetV2 FPN Keypoints 512x512",
          "EfficientDet D0 512x512",
          "EfficientDet D1 640x640",
          "EfficientDet D2 768x768",
          "EfficientDet D3 896x896",
          "EfficientDet D4 1024x1024",
          "EfficientDet D5 1280x1280",
          "EfficientDet D6 1280x1280",
          "EfficientDet D7 1536x1536",
          "SSD MobileNet v2 320x320",
          "SSD MobileNet V1 FPN 640x640",
          "SSD MobileNet V2 FPNLite 320x320",
          "SSD MobileNet V2 FPNLite 640x640",
          "SSD ResNet50 V1 FPN 640x640 (RetinaNet50)",
          "SSD ResNet50 V1 FPN 1024x1024 (RetinaNet50)",
          "SSD ResNet101 V1 FPN 640x640 (RetinaNet101)",
          "SSD ResNet101 V1 FPN 1024x1024 (RetinaNet101)",
          "SSD ResNet152 V1 FPN 640x640 (RetinaNet152)",
          "SSD ResNet152 V1 FPN 1024x1024 (RetinaNet152)",
          "Faster R-CNN ResNet50 V1 640x640",
          "Faster R-CNN ResNet50 V1 1024x1024",
          "Faster R-CNN ResNet50 V1 800x1333",
          "Faster R-CNN ResNet101 V1 640x640",
          "Faster R-CNN ResNet101 V1 1024x1024",
          "Faster R-CNN ResNet101 V1 800x1333",
          "Faster R-CNN ResNet152 V1 640x640",
          "Faster R-CNN ResNet152 V1 1024x1024",
          "Faster R-CNN ResNet152 V1 800x1333",
          "Faster R-CNN Inception ResNet V2 640x640",
          "Faster R-CNN Inception ResNet V2 1024x1024",
          "Mask R-CNN Inception ResNet V2 1024x1024"
         ],
         "textposition": "top center",
         "type": "scatter",
         "x": [
          70,
          76,
          197,
          211,
          27,
          30,
          34,
          27,
          30,
          6,
          6,
          39,
          54,
          67,
          95,
          133,
          222,
          268,
          325,
          19,
          48,
          22,
          39,
          46,
          87,
          57,
          104,
          80,
          111,
          53,
          65,
          65,
          55,
          72,
          77,
          64,
          85,
          101,
          206,
          236,
          301
         ],
         "y": [
          null,
          61.4,
          null,
          64.5,
          null,
          50.7,
          null,
          null,
          48.2,
          null,
          41.7,
          null,
          null,
          null,
          null,
          null,
          null,
          null,
          null,
          null,
          null,
          null,
          null,
          null,
          null,
          null,
          null,
          null,
          null,
          null,
          null,
          null,
          null,
          null,
          null,
          null,
          null,
          null,
          null,
          null,
          34.6
         ]
        }
       ],
       "layout": {
        "template": {
         "data": {
          "bar": [
           {
            "error_x": {
             "color": "#2a3f5f"
            },
            "error_y": {
             "color": "#2a3f5f"
            },
            "marker": {
             "line": {
              "color": "#E5ECF6",
              "width": 0.5
             },
             "pattern": {
              "fillmode": "overlay",
              "size": 10,
              "solidity": 0.2
             }
            },
            "type": "bar"
           }
          ],
          "barpolar": [
           {
            "marker": {
             "line": {
              "color": "#E5ECF6",
              "width": 0.5
             },
             "pattern": {
              "fillmode": "overlay",
              "size": 10,
              "solidity": 0.2
             }
            },
            "type": "barpolar"
           }
          ],
          "carpet": [
           {
            "aaxis": {
             "endlinecolor": "#2a3f5f",
             "gridcolor": "white",
             "linecolor": "white",
             "minorgridcolor": "white",
             "startlinecolor": "#2a3f5f"
            },
            "baxis": {
             "endlinecolor": "#2a3f5f",
             "gridcolor": "white",
             "linecolor": "white",
             "minorgridcolor": "white",
             "startlinecolor": "#2a3f5f"
            },
            "type": "carpet"
           }
          ],
          "choropleth": [
           {
            "colorbar": {
             "outlinewidth": 0,
             "ticks": ""
            },
            "type": "choropleth"
           }
          ],
          "contour": [
           {
            "colorbar": {
             "outlinewidth": 0,
             "ticks": ""
            },
            "colorscale": [
             [
              0,
              "#0d0887"
             ],
             [
              0.1111111111111111,
              "#46039f"
             ],
             [
              0.2222222222222222,
              "#7201a8"
             ],
             [
              0.3333333333333333,
              "#9c179e"
             ],
             [
              0.4444444444444444,
              "#bd3786"
             ],
             [
              0.5555555555555556,
              "#d8576b"
             ],
             [
              0.6666666666666666,
              "#ed7953"
             ],
             [
              0.7777777777777778,
              "#fb9f3a"
             ],
             [
              0.8888888888888888,
              "#fdca26"
             ],
             [
              1,
              "#f0f921"
             ]
            ],
            "type": "contour"
           }
          ],
          "contourcarpet": [
           {
            "colorbar": {
             "outlinewidth": 0,
             "ticks": ""
            },
            "type": "contourcarpet"
           }
          ],
          "heatmap": [
           {
            "colorbar": {
             "outlinewidth": 0,
             "ticks": ""
            },
            "colorscale": [
             [
              0,
              "#0d0887"
             ],
             [
              0.1111111111111111,
              "#46039f"
             ],
             [
              0.2222222222222222,
              "#7201a8"
             ],
             [
              0.3333333333333333,
              "#9c179e"
             ],
             [
              0.4444444444444444,
              "#bd3786"
             ],
             [
              0.5555555555555556,
              "#d8576b"
             ],
             [
              0.6666666666666666,
              "#ed7953"
             ],
             [
              0.7777777777777778,
              "#fb9f3a"
             ],
             [
              0.8888888888888888,
              "#fdca26"
             ],
             [
              1,
              "#f0f921"
             ]
            ],
            "type": "heatmap"
           }
          ],
          "heatmapgl": [
           {
            "colorbar": {
             "outlinewidth": 0,
             "ticks": ""
            },
            "colorscale": [
             [
              0,
              "#0d0887"
             ],
             [
              0.1111111111111111,
              "#46039f"
             ],
             [
              0.2222222222222222,
              "#7201a8"
             ],
             [
              0.3333333333333333,
              "#9c179e"
             ],
             [
              0.4444444444444444,
              "#bd3786"
             ],
             [
              0.5555555555555556,
              "#d8576b"
             ],
             [
              0.6666666666666666,
              "#ed7953"
             ],
             [
              0.7777777777777778,
              "#fb9f3a"
             ],
             [
              0.8888888888888888,
              "#fdca26"
             ],
             [
              1,
              "#f0f921"
             ]
            ],
            "type": "heatmapgl"
           }
          ],
          "histogram": [
           {
            "marker": {
             "pattern": {
              "fillmode": "overlay",
              "size": 10,
              "solidity": 0.2
             }
            },
            "type": "histogram"
           }
          ],
          "histogram2d": [
           {
            "colorbar": {
             "outlinewidth": 0,
             "ticks": ""
            },
            "colorscale": [
             [
              0,
              "#0d0887"
             ],
             [
              0.1111111111111111,
              "#46039f"
             ],
             [
              0.2222222222222222,
              "#7201a8"
             ],
             [
              0.3333333333333333,
              "#9c179e"
             ],
             [
              0.4444444444444444,
              "#bd3786"
             ],
             [
              0.5555555555555556,
              "#d8576b"
             ],
             [
              0.6666666666666666,
              "#ed7953"
             ],
             [
              0.7777777777777778,
              "#fb9f3a"
             ],
             [
              0.8888888888888888,
              "#fdca26"
             ],
             [
              1,
              "#f0f921"
             ]
            ],
            "type": "histogram2d"
           }
          ],
          "histogram2dcontour": [
           {
            "colorbar": {
             "outlinewidth": 0,
             "ticks": ""
            },
            "colorscale": [
             [
              0,
              "#0d0887"
             ],
             [
              0.1111111111111111,
              "#46039f"
             ],
             [
              0.2222222222222222,
              "#7201a8"
             ],
             [
              0.3333333333333333,
              "#9c179e"
             ],
             [
              0.4444444444444444,
              "#bd3786"
             ],
             [
              0.5555555555555556,
              "#d8576b"
             ],
             [
              0.6666666666666666,
              "#ed7953"
             ],
             [
              0.7777777777777778,
              "#fb9f3a"
             ],
             [
              0.8888888888888888,
              "#fdca26"
             ],
             [
              1,
              "#f0f921"
             ]
            ],
            "type": "histogram2dcontour"
           }
          ],
          "mesh3d": [
           {
            "colorbar": {
             "outlinewidth": 0,
             "ticks": ""
            },
            "type": "mesh3d"
           }
          ],
          "parcoords": [
           {
            "line": {
             "colorbar": {
              "outlinewidth": 0,
              "ticks": ""
             }
            },
            "type": "parcoords"
           }
          ],
          "pie": [
           {
            "automargin": true,
            "type": "pie"
           }
          ],
          "scatter": [
           {
            "fillpattern": {
             "fillmode": "overlay",
             "size": 10,
             "solidity": 0.2
            },
            "type": "scatter"
           }
          ],
          "scatter3d": [
           {
            "line": {
             "colorbar": {
              "outlinewidth": 0,
              "ticks": ""
             }
            },
            "marker": {
             "colorbar": {
              "outlinewidth": 0,
              "ticks": ""
             }
            },
            "type": "scatter3d"
           }
          ],
          "scattercarpet": [
           {
            "marker": {
             "colorbar": {
              "outlinewidth": 0,
              "ticks": ""
             }
            },
            "type": "scattercarpet"
           }
          ],
          "scattergeo": [
           {
            "marker": {
             "colorbar": {
              "outlinewidth": 0,
              "ticks": ""
             }
            },
            "type": "scattergeo"
           }
          ],
          "scattergl": [
           {
            "marker": {
             "colorbar": {
              "outlinewidth": 0,
              "ticks": ""
             }
            },
            "type": "scattergl"
           }
          ],
          "scattermapbox": [
           {
            "marker": {
             "colorbar": {
              "outlinewidth": 0,
              "ticks": ""
             }
            },
            "type": "scattermapbox"
           }
          ],
          "scatterpolar": [
           {
            "marker": {
             "colorbar": {
              "outlinewidth": 0,
              "ticks": ""
             }
            },
            "type": "scatterpolar"
           }
          ],
          "scatterpolargl": [
           {
            "marker": {
             "colorbar": {
              "outlinewidth": 0,
              "ticks": ""
             }
            },
            "type": "scatterpolargl"
           }
          ],
          "scatterternary": [
           {
            "marker": {
             "colorbar": {
              "outlinewidth": 0,
              "ticks": ""
             }
            },
            "type": "scatterternary"
           }
          ],
          "surface": [
           {
            "colorbar": {
             "outlinewidth": 0,
             "ticks": ""
            },
            "colorscale": [
             [
              0,
              "#0d0887"
             ],
             [
              0.1111111111111111,
              "#46039f"
             ],
             [
              0.2222222222222222,
              "#7201a8"
             ],
             [
              0.3333333333333333,
              "#9c179e"
             ],
             [
              0.4444444444444444,
              "#bd3786"
             ],
             [
              0.5555555555555556,
              "#d8576b"
             ],
             [
              0.6666666666666666,
              "#ed7953"
             ],
             [
              0.7777777777777778,
              "#fb9f3a"
             ],
             [
              0.8888888888888888,
              "#fdca26"
             ],
             [
              1,
              "#f0f921"
             ]
            ],
            "type": "surface"
           }
          ],
          "table": [
           {
            "cells": {
             "fill": {
              "color": "#EBF0F8"
             },
             "line": {
              "color": "white"
             }
            },
            "header": {
             "fill": {
              "color": "#C8D4E3"
             },
             "line": {
              "color": "white"
             }
            },
            "type": "table"
           }
          ]
         },
         "layout": {
          "annotationdefaults": {
           "arrowcolor": "#2a3f5f",
           "arrowhead": 0,
           "arrowwidth": 1
          },
          "autotypenumbers": "strict",
          "coloraxis": {
           "colorbar": {
            "outlinewidth": 0,
            "ticks": ""
           }
          },
          "colorscale": {
           "diverging": [
            [
             0,
             "#8e0152"
            ],
            [
             0.1,
             "#c51b7d"
            ],
            [
             0.2,
             "#de77ae"
            ],
            [
             0.3,
             "#f1b6da"
            ],
            [
             0.4,
             "#fde0ef"
            ],
            [
             0.5,
             "#f7f7f7"
            ],
            [
             0.6,
             "#e6f5d0"
            ],
            [
             0.7,
             "#b8e186"
            ],
            [
             0.8,
             "#7fbc41"
            ],
            [
             0.9,
             "#4d9221"
            ],
            [
             1,
             "#276419"
            ]
           ],
           "sequential": [
            [
             0,
             "#0d0887"
            ],
            [
             0.1111111111111111,
             "#46039f"
            ],
            [
             0.2222222222222222,
             "#7201a8"
            ],
            [
             0.3333333333333333,
             "#9c179e"
            ],
            [
             0.4444444444444444,
             "#bd3786"
            ],
            [
             0.5555555555555556,
             "#d8576b"
            ],
            [
             0.6666666666666666,
             "#ed7953"
            ],
            [
             0.7777777777777778,
             "#fb9f3a"
            ],
            [
             0.8888888888888888,
             "#fdca26"
            ],
            [
             1,
             "#f0f921"
            ]
           ],
           "sequentialminus": [
            [
             0,
             "#0d0887"
            ],
            [
             0.1111111111111111,
             "#46039f"
            ],
            [
             0.2222222222222222,
             "#7201a8"
            ],
            [
             0.3333333333333333,
             "#9c179e"
            ],
            [
             0.4444444444444444,
             "#bd3786"
            ],
            [
             0.5555555555555556,
             "#d8576b"
            ],
            [
             0.6666666666666666,
             "#ed7953"
            ],
            [
             0.7777777777777778,
             "#fb9f3a"
            ],
            [
             0.8888888888888888,
             "#fdca26"
            ],
            [
             1,
             "#f0f921"
            ]
           ]
          },
          "colorway": [
           "#636efa",
           "#EF553B",
           "#00cc96",
           "#ab63fa",
           "#FFA15A",
           "#19d3f3",
           "#FF6692",
           "#B6E880",
           "#FF97FF",
           "#FECB52"
          ],
          "font": {
           "color": "#2a3f5f"
          },
          "geo": {
           "bgcolor": "white",
           "lakecolor": "white",
           "landcolor": "#E5ECF6",
           "showlakes": true,
           "showland": true,
           "subunitcolor": "white"
          },
          "hoverlabel": {
           "align": "left"
          },
          "hovermode": "closest",
          "mapbox": {
           "style": "light"
          },
          "paper_bgcolor": "white",
          "plot_bgcolor": "#E5ECF6",
          "polar": {
           "angularaxis": {
            "gridcolor": "white",
            "linecolor": "white",
            "ticks": ""
           },
           "bgcolor": "#E5ECF6",
           "radialaxis": {
            "gridcolor": "white",
            "linecolor": "white",
            "ticks": ""
           }
          },
          "scene": {
           "xaxis": {
            "backgroundcolor": "#E5ECF6",
            "gridcolor": "white",
            "gridwidth": 2,
            "linecolor": "white",
            "showbackground": true,
            "ticks": "",
            "zerolinecolor": "white"
           },
           "yaxis": {
            "backgroundcolor": "#E5ECF6",
            "gridcolor": "white",
            "gridwidth": 2,
            "linecolor": "white",
            "showbackground": true,
            "ticks": "",
            "zerolinecolor": "white"
           },
           "zaxis": {
            "backgroundcolor": "#E5ECF6",
            "gridcolor": "white",
            "gridwidth": 2,
            "linecolor": "white",
            "showbackground": true,
            "ticks": "",
            "zerolinecolor": "white"
           }
          },
          "shapedefaults": {
           "line": {
            "color": "#2a3f5f"
           }
          },
          "ternary": {
           "aaxis": {
            "gridcolor": "white",
            "linecolor": "white",
            "ticks": ""
           },
           "baxis": {
            "gridcolor": "white",
            "linecolor": "white",
            "ticks": ""
           },
           "bgcolor": "#E5ECF6",
           "caxis": {
            "gridcolor": "white",
            "linecolor": "white",
            "ticks": ""
           }
          },
          "title": {
           "x": 0.05
          },
          "xaxis": {
           "automargin": true,
           "gridcolor": "white",
           "linecolor": "white",
           "ticks": "",
           "title": {
            "standoff": 15
           },
           "zerolinecolor": "white",
           "zerolinewidth": 2
          },
          "yaxis": {
           "automargin": true,
           "gridcolor": "white",
           "linecolor": "white",
           "ticks": "",
           "title": {
            "standoff": 15
           },
           "zerolinecolor": "white",
           "zerolinewidth": 2
          }
         }
        },
        "title": {
         "text": "Speed and mAP Tradoff",
         "x": 0.5
        },
        "width": 1200,
        "xaxis": {
         "range": [
          0,
          350
         ],
         "title": {
          "text": "COCO-mAP"
         }
        },
        "yaxis": {
         "range": [
          10,
          60
         ],
         "title": {
          "text": "Speed (ms)"
         }
        }
       }
      }
     },
     "metadata": {},
     "output_type": "display_data"
    }
   ],
   "source": [
    "import plotly.graph_objs as go  # Building blocks of Plotly plots\n",
    "# Traces\n",
    "trace0 = dict(\n",
    "    type='scatter', \n",
    "    x=df[\"Speed (ms)\"], y=df[\"COCO-mAP-Boxes\"], \n",
    "    mode = 'markers',\n",
    "    name='Boxes',\n",
    "    text=df[\"Model name\"],\n",
    "    textposition='top center',\n",
    "    marker=dict(size=8, opacity=0.8), # Adjust marker size and opacity\n",
    ")\n",
    "\n",
    "trace1 = dict(\n",
    "    type='scatter', \n",
    "    x=df[\"Speed (ms)\"], y=df[\"COCO-mAP-KeyPoints\"],\n",
    "    mode = 'markers',\n",
    "    name='KeyPoints',\n",
    "    text=df[\"Model name\"],\n",
    "    textposition='top center',\n",
    "    marker=dict(size=8, opacity=0.8), # Adjust marker size and opacity\n",
    ")\n",
    "\n",
    "# Layout\n",
    "layout = dict(\n",
    "    title='Speed and mAP Tradoff',\n",
    "    title_x=0.5,\n",
    "    xaxis=dict(title='COCO-mAP', range=[0,350]),\n",
    "    yaxis=dict(title='Speed (ms)', range=[10,60]),\n",
    "    \n",
    ")\n",
    "# Figure\n",
    "fig = go.Figure(data=[trace0, trace1],layout=layout,) \n",
    "fig.update_layout(width=1200)\n",
    "# Display the result within the notebook:\n",
    "config= {'displaylogo': False}\n",
    "fig.show(config=config)"
   ]
  }
 ],
 "metadata": {
  "kernelspec": {
   "display_name": "opencv",
   "language": "python",
   "name": "python3"
  },
  "language_info": {
   "codemirror_mode": {
    "name": "ipython",
    "version": 3
   },
   "file_extension": ".py",
   "mimetype": "text/x-python",
   "name": "python",
   "nbconvert_exporter": "python",
   "pygments_lexer": "ipython3",
   "version": "3.10.9"
  },
  "orig_nbformat": 4,
  "vscode": {
   "interpreter": {
    "hash": "924a9cc9e66b45ae27b0e3f6011f1f1aa6e27e0379cd2342aec8084a84c9d013"
   }
  }
 },
 "nbformat": 4,
 "nbformat_minor": 2
}
